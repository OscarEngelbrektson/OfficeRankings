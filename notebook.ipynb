{
 "cells": [
  {
   "cell_type": "code",
   "execution_count": 39,
   "metadata": {},
   "outputs": [
    {
     "ename": "ImportError",
     "evalue": "cannot import name 'display_rating' from 'updateRatings' (c:\\Users\\rappfarnes john\\OneDrive - The Boston Consulting Group, Inc\\Documents\\GitHub\\OfficeRankings\\updateRatings.py)",
     "output_type": "error",
     "traceback": [
      "\u001b[1;31m---------------------------------------------------------------------------\u001b[0m",
      "\u001b[1;31mImportError\u001b[0m                               Traceback (most recent call last)",
      "\u001b[1;32m~\\AppData\\Local\\Temp\\ipykernel_41096\\2637743801.py\u001b[0m in \u001b[0;36m<module>\u001b[1;34m\u001b[0m\n\u001b[1;32m----> 1\u001b[1;33m \u001b[1;32mfrom\u001b[0m \u001b[0mupdateRatings\u001b[0m \u001b[1;32mimport\u001b[0m \u001b[0mget_game_outcomes\u001b[0m\u001b[1;33m,\u001b[0m \u001b[0mdisplay_rating\u001b[0m\u001b[1;33m\u001b[0m\u001b[1;33m\u001b[0m\u001b[0m\n\u001b[0m\u001b[0;32m      2\u001b[0m \u001b[1;33m\u001b[0m\u001b[0m\n\u001b[0;32m      3\u001b[0m \u001b[1;32mimport\u001b[0m \u001b[0mpandas\u001b[0m \u001b[1;32mas\u001b[0m \u001b[0mpd\u001b[0m\u001b[1;33m\u001b[0m\u001b[1;33m\u001b[0m\u001b[0m\n\u001b[0;32m      4\u001b[0m \u001b[1;33m\u001b[0m\u001b[0m\n\u001b[0;32m      5\u001b[0m \u001b[1;32mfrom\u001b[0m \u001b[0mtrueskill\u001b[0m \u001b[1;32mimport\u001b[0m \u001b[0mRating\u001b[0m\u001b[1;33m,\u001b[0m \u001b[0mrate_1vs1\u001b[0m\u001b[1;33m\u001b[0m\u001b[1;33m\u001b[0m\u001b[0m\n",
      "\u001b[1;31mImportError\u001b[0m: cannot import name 'display_rating' from 'updateRatings' (c:\\Users\\rappfarnes john\\OneDrive - The Boston Consulting Group, Inc\\Documents\\GitHub\\OfficeRankings\\updateRatings.py)"
     ]
    }
   ],
   "source": [
    "from updateRatings import get_game_outcomes#, display_rating\n",
    "\n",
    "import pandas as pd\n",
    "\n",
    "from trueskill import Rating, rate_1vs1"
   ]
  },
  {
   "cell_type": "code",
   "execution_count": null,
   "metadata": {},
   "outputs": [],
   "source": [
    "def display_rating(rating):\n",
    "    return rating.mu - 3 * rating.sigma"
   ]
  },
  {
   "cell_type": "code",
   "execution_count": 11,
   "metadata": {},
   "outputs": [
    {
     "data": {
      "text/html": [
       "<div>\n",
       "<style scoped>\n",
       "    .dataframe tbody tr th:only-of-type {\n",
       "        vertical-align: middle;\n",
       "    }\n",
       "\n",
       "    .dataframe tbody tr th {\n",
       "        vertical-align: top;\n",
       "    }\n",
       "\n",
       "    .dataframe thead th {\n",
       "        text-align: right;\n",
       "    }\n",
       "</style>\n",
       "<table border=\"1\" class=\"dataframe\">\n",
       "  <thead>\n",
       "    <tr style=\"text-align: right;\">\n",
       "      <th></th>\n",
       "      <th>Timestamp</th>\n",
       "      <th>Player A</th>\n",
       "      <th>Player B</th>\n",
       "      <th>Game</th>\n",
       "      <th>Winner</th>\n",
       "    </tr>\n",
       "  </thead>\n",
       "  <tbody>\n",
       "    <tr>\n",
       "      <th>0</th>\n",
       "      <td>3/7/2023 14:27:50</td>\n",
       "      <td>John</td>\n",
       "      <td>Oscar</td>\n",
       "      <td>Ping pong</td>\n",
       "      <td>Player A</td>\n",
       "    </tr>\n",
       "    <tr>\n",
       "      <th>1</th>\n",
       "      <td>3/7/2023 14:27:50</td>\n",
       "      <td>John</td>\n",
       "      <td>Oscar</td>\n",
       "      <td>Ping pong</td>\n",
       "      <td>Player A</td>\n",
       "    </tr>\n",
       "    <tr>\n",
       "      <th>2</th>\n",
       "      <td>3/7/2023 14:27:50</td>\n",
       "      <td>Oscar</td>\n",
       "      <td>John</td>\n",
       "      <td>Ping pong</td>\n",
       "      <td>Player B</td>\n",
       "    </tr>\n",
       "    <tr>\n",
       "      <th>3</th>\n",
       "      <td>3/7/2023 14:27:50</td>\n",
       "      <td>John</td>\n",
       "      <td>Oscar</td>\n",
       "      <td>Ping pong</td>\n",
       "      <td>Player A</td>\n",
       "    </tr>\n",
       "    <tr>\n",
       "      <th>4</th>\n",
       "      <td>3/7/2023 14:27:50</td>\n",
       "      <td>John</td>\n",
       "      <td>Oscar</td>\n",
       "      <td>Chess</td>\n",
       "      <td>Player A</td>\n",
       "    </tr>\n",
       "    <tr>\n",
       "      <th>5</th>\n",
       "      <td>3/7/2023 14:27:50</td>\n",
       "      <td>Oscar</td>\n",
       "      <td>John</td>\n",
       "      <td>Chess</td>\n",
       "      <td>Player B</td>\n",
       "    </tr>\n",
       "    <tr>\n",
       "      <th>6</th>\n",
       "      <td>3/7/2023 14:27:50</td>\n",
       "      <td>John</td>\n",
       "      <td>Oscar</td>\n",
       "      <td>Chess</td>\n",
       "      <td>Player A</td>\n",
       "    </tr>\n",
       "  </tbody>\n",
       "</table>\n",
       "</div>"
      ],
      "text/plain": [
       "           Timestamp Player A Player B       Game    Winner\n",
       "0  3/7/2023 14:27:50     John    Oscar  Ping pong  Player A\n",
       "1  3/7/2023 14:27:50     John    Oscar  Ping pong  Player A\n",
       "2  3/7/2023 14:27:50    Oscar     John  Ping pong  Player B\n",
       "3  3/7/2023 14:27:50     John    Oscar  Ping pong  Player A\n",
       "4  3/7/2023 14:27:50     John    Oscar      Chess  Player A\n",
       "5  3/7/2023 14:27:50    Oscar     John      Chess  Player B\n",
       "6  3/7/2023 14:27:50     John    Oscar      Chess  Player A"
      ]
     },
     "execution_count": 11,
     "metadata": {},
     "output_type": "execute_result"
    }
   ],
   "source": [
    "game_outcomes = get_game_outcomes()\n",
    "game_outcomes"
   ]
  },
  {
   "cell_type": "code",
   "execution_count": 43,
   "metadata": {},
   "outputs": [
    {
     "name": "stdout",
     "output_type": "stream",
     "text": [
      "{'John': trueskill.Rating(mu=27.415, sigma=4.873), 'Oscar': trueskill.Rating(mu=22.585, sigma=4.873)}\n",
      "{'John': trueskill.Rating(mu=27.085, sigma=5.261), 'Oscar': trueskill.Rating(mu=22.915, sigma=5.261)}\n"
     ]
    }
   ],
   "source": [
    "game_types = game_outcomes.Game.unique()\n",
    "\n",
    "for game in game_types:\n",
    "    outcomes = game_outcomes[game_outcomes.Game == game]\n",
    "\n",
    "    players = pd.concat([outcomes['Player A'], outcomes['Player B']]).unique()\n",
    "\n",
    "    player_ratings = {}\n",
    "\n",
    "    for player in players:\n",
    "        player_ratings[player] = Rating()\n",
    "\n",
    "    for i, outcome in outcomes.iterrows():\n",
    "        pA = outcome['Player A']\n",
    "        pB = outcome['Player B']\n",
    "\n",
    "        player_ratings[pA], player_ratings[pB] = rate_1vs1(player_ratings[pA], player_ratings[pB])\n",
    "\n",
    "    print(player_ratings)"
   ]
  }
 ],
 "metadata": {
  "language_info": {
   "name": "python"
  },
  "orig_nbformat": 4
 },
 "nbformat": 4,
 "nbformat_minor": 2
}
