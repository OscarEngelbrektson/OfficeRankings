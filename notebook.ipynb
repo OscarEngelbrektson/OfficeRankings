{
 "cells": [
  {
   "cell_type": "code",
   "execution_count": 5,
   "metadata": {},
   "outputs": [],
   "source": [
    "from db import get_game_outcomes, write_player_ratings\n",
    "from player_ratings import calculate_player_ratings\n",
    "\n",
    "import pandas as pd"
   ]
  },
  {
   "cell_type": "code",
   "execution_count": 6,
   "metadata": {},
   "outputs": [
    {
     "data": {
      "text/html": [
       "<div>\n",
       "<style scoped>\n",
       "    .dataframe tbody tr th:only-of-type {\n",
       "        vertical-align: middle;\n",
       "    }\n",
       "\n",
       "    .dataframe tbody tr th {\n",
       "        vertical-align: top;\n",
       "    }\n",
       "\n",
       "    .dataframe thead th {\n",
       "        text-align: right;\n",
       "    }\n",
       "</style>\n",
       "<table border=\"1\" class=\"dataframe\">\n",
       "  <thead>\n",
       "    <tr style=\"text-align: right;\">\n",
       "      <th></th>\n",
       "      <th>Timestamp</th>\n",
       "      <th>Player A</th>\n",
       "      <th>Player B</th>\n",
       "      <th>Game</th>\n",
       "      <th>Winner</th>\n",
       "    </tr>\n",
       "  </thead>\n",
       "  <tbody>\n",
       "    <tr>\n",
       "      <th>0</th>\n",
       "      <td>3/7/2023 14:27:50</td>\n",
       "      <td>John</td>\n",
       "      <td>Oscar</td>\n",
       "      <td>Ping pong</td>\n",
       "      <td>Player A</td>\n",
       "    </tr>\n",
       "    <tr>\n",
       "      <th>1</th>\n",
       "      <td>3/7/2023 14:27:50</td>\n",
       "      <td>Oscar</td>\n",
       "      <td>John</td>\n",
       "      <td>Ping pong</td>\n",
       "      <td>Player A</td>\n",
       "    </tr>\n",
       "    <tr>\n",
       "      <th>2</th>\n",
       "      <td>3/7/2023 14:27:50</td>\n",
       "      <td>John</td>\n",
       "      <td>Oscar</td>\n",
       "      <td>Ping pong</td>\n",
       "      <td>Player B</td>\n",
       "    </tr>\n",
       "    <tr>\n",
       "      <th>3</th>\n",
       "      <td>3/7/2023 14:27:50</td>\n",
       "      <td>Oscar</td>\n",
       "      <td>John</td>\n",
       "      <td>Ping pong</td>\n",
       "      <td>Player A</td>\n",
       "    </tr>\n",
       "    <tr>\n",
       "      <th>4</th>\n",
       "      <td>3/7/2023 14:27:50</td>\n",
       "      <td>John</td>\n",
       "      <td>Oscar</td>\n",
       "      <td>Chess</td>\n",
       "      <td>Player A</td>\n",
       "    </tr>\n",
       "    <tr>\n",
       "      <th>5</th>\n",
       "      <td>3/7/2023 14:27:50</td>\n",
       "      <td>Oscar</td>\n",
       "      <td>John</td>\n",
       "      <td>Chess</td>\n",
       "      <td>Player B</td>\n",
       "    </tr>\n",
       "    <tr>\n",
       "      <th>6</th>\n",
       "      <td>3/7/2023 14:27:50</td>\n",
       "      <td>John</td>\n",
       "      <td>Oscar</td>\n",
       "      <td>Chess</td>\n",
       "      <td>Player A</td>\n",
       "    </tr>\n",
       "  </tbody>\n",
       "</table>\n",
       "</div>"
      ],
      "text/plain": [
       "           Timestamp Player A Player B       Game    Winner\n",
       "0  3/7/2023 14:27:50     John    Oscar  Ping pong  Player A\n",
       "1  3/7/2023 14:27:50    Oscar     John  Ping pong  Player A\n",
       "2  3/7/2023 14:27:50     John    Oscar  Ping pong  Player B\n",
       "3  3/7/2023 14:27:50    Oscar     John  Ping pong  Player A\n",
       "4  3/7/2023 14:27:50     John    Oscar      Chess  Player A\n",
       "5  3/7/2023 14:27:50    Oscar     John      Chess  Player B\n",
       "6  3/7/2023 14:27:50     John    Oscar      Chess  Player A"
      ]
     },
     "execution_count": 6,
     "metadata": {},
     "output_type": "execute_result"
    }
   ],
   "source": [
    "game_outcomes = get_game_outcomes()\n",
    "game_outcomes"
   ]
  },
  {
   "cell_type": "code",
   "execution_count": 7,
   "metadata": {},
   "outputs": [
    {
     "data": {
      "text/html": [
       "<div>\n",
       "<style scoped>\n",
       "    .dataframe tbody tr th:only-of-type {\n",
       "        vertical-align: middle;\n",
       "    }\n",
       "\n",
       "    .dataframe tbody tr th {\n",
       "        vertical-align: top;\n",
       "    }\n",
       "\n",
       "    .dataframe thead th {\n",
       "        text-align: right;\n",
       "    }\n",
       "</style>\n",
       "<table border=\"1\" class=\"dataframe\">\n",
       "  <thead>\n",
       "    <tr style=\"text-align: right;\">\n",
       "      <th></th>\n",
       "      <th>Game</th>\n",
       "      <th>Player</th>\n",
       "      <th>Rating</th>\n",
       "    </tr>\n",
       "  </thead>\n",
       "  <tbody>\n",
       "    <tr>\n",
       "      <th>0</th>\n",
       "      <td>Ping pong</td>\n",
       "      <td>John</td>\n",
       "      <td>983</td>\n",
       "    </tr>\n",
       "    <tr>\n",
       "      <th>1</th>\n",
       "      <td>Ping pong</td>\n",
       "      <td>Oscar</td>\n",
       "      <td>1239</td>\n",
       "    </tr>\n",
       "    <tr>\n",
       "      <th>0</th>\n",
       "      <td>Chess</td>\n",
       "      <td>John</td>\n",
       "      <td>1130</td>\n",
       "    </tr>\n",
       "    <tr>\n",
       "      <th>1</th>\n",
       "      <td>Chess</td>\n",
       "      <td>Oscar</td>\n",
       "      <td>713</td>\n",
       "    </tr>\n",
       "  </tbody>\n",
       "</table>\n",
       "</div>"
      ],
      "text/plain": [
       "        Game Player  Rating\n",
       "0  Ping pong   John     983\n",
       "1  Ping pong  Oscar    1239\n",
       "0      Chess   John    1130\n",
       "1      Chess  Oscar     713"
      ]
     },
     "execution_count": 7,
     "metadata": {},
     "output_type": "execute_result"
    }
   ],
   "source": [
    "player_ratings = calculate_player_ratings(game_outcomes)\n",
    "\n",
    "player_ratings"
   ]
  },
  {
   "cell_type": "code",
   "execution_count": 8,
   "metadata": {},
   "outputs": [],
   "source": [
    "write_player_ratings(player_ratings)"
   ]
  }
 ],
 "metadata": {
  "language_info": {
   "name": "python"
  },
  "orig_nbformat": 4
 },
 "nbformat": 4,
 "nbformat_minor": 2
}
